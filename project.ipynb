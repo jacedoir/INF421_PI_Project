{
 "cells": [
  {
   "attachments": {},
   "cell_type": "markdown",
   "metadata": {},
   "source": [
    "Initialisation"
   ]
  },
  {
   "cell_type": "code",
   "execution_count": 1,
   "metadata": {},
   "outputs": [],
   "source": [
    "import numpy as np\n",
    "import numpy.random as rd\n",
    "import matplotlib.pyplot as plt\n",
    "\n",
    "N = 10 #Number of points"
   ]
  },
  {
   "attachments": {},
   "cell_type": "markdown",
   "metadata": {},
   "source": [
    "Dataset generation"
   ]
  },
  {
   "cell_type": "code",
   "execution_count": 2,
   "metadata": {},
   "outputs": [],
   "source": [
    "def pointgeneration():\n",
    "    \"\"\"\n",
    "    Return a list of two numbers in [0,1]\n",
    "    \"\"\"\n",
    "    return rd.rand(2)"
   ]
  },
  {
   "cell_type": "code",
   "execution_count": 3,
   "metadata": {},
   "outputs": [
    {
     "name": "stdout",
     "output_type": "stream",
     "text": [
      "[[0.13791911 0.28262765]\n",
      " [0.64453315 0.42437145]\n",
      " [0.64498635 0.19103537]\n",
      " [0.13064263 0.08828359]\n",
      " [0.19031515 0.66404789]\n",
      " [0.90810119 0.87934981]\n",
      " [0.7486916  0.63543625]\n",
      " [0.0203823  0.57599988]\n",
      " [0.59905336 0.13502424]\n",
      " [0.65414315 0.72197237]]\n"
     ]
    }
   ],
   "source": [
    "def generateB(n):\n",
    "    \"\"\"\n",
    "    Return list of n list of 2 elements\n",
    "    \"\"\"\n",
    "    return rd.uniform(size=(n, 2))\n",
    "    \n",
    "print(generateB(N))"
   ]
  },
  {
   "cell_type": "code",
   "execution_count": 4,
   "metadata": {},
   "outputs": [],
   "source": [
    "def generateA(n):\n",
    "\n",
    "    A=generateB(n-4)\n",
    "\n",
    "    #adding the corner\n",
    "    A= np.append(A,[[0,0]],axis=0)\n",
    "    A= np.append(A,[[0,1]],axis=0)\n",
    "    A= np.append(A,[[1,0]],axis=0)\n",
    "    A= np.append(A,[[1,1]],axis=0)\n",
    "\n",
    "    #rotating the set\n",
    "    angle = rd.uniform() * 2 * np.pi\n",
    "    rotation_matrix = np.array([[np.cos(angle), -np.sin(angle)], [np.sin(angle), np.cos(angle)]])\n",
    "    A = A @ rotation_matrix\n",
    "\n",
    "    # Shuffle the points\n",
    "    np.random.shuffle(A)\n",
    "    return A\n"
   ]
  },
  {
   "cell_type": "code",
   "execution_count": 64,
   "metadata": {},
   "outputs": [],
   "source": [
    "def generateC(n,r):\n",
    "    C=np.empty((1,2))\n",
    "    while np.size(C,0)<n:\n",
    "        x,y=rd.uniform(-r,r),rd.uniform(-r,r)\n",
    "        if x**2+y**2<=r**2:\n",
    "            C = np.append(C,[[x,y]], axis=0)\n",
    "    return C\n"
   ]
  },
  {
   "cell_type": "code",
   "execution_count": 6,
   "metadata": {},
   "outputs": [],
   "source": [
    "def generateD(n,r):\n",
    "    D=np.empty((1,2))\n",
    "    for i in range(n):\n",
    "        angle = rd.uniform()*2*np.pi\n",
    "        D = np.append(D,[[r*np.cos(angle),r*np.sin(angle)]],axis=0)\n",
    "    return D\n"
   ]
  },
  {
   "attachments": {},
   "cell_type": "markdown",
   "metadata": {},
   "source": [
    "Sweeping"
   ]
  },
  {
   "cell_type": "code",
   "execution_count": 43,
   "metadata": {},
   "outputs": [],
   "source": [
    "def clockwise(a,b,c):\n",
    "    #Takes 3 points a,b,c of type np.array and return if the triangle ABC is clock-wised \n",
    "    \n",
    "    if np.linalg.det(np.concatenate(((c-b).reshape(2,1),(b-a).reshape(2,1)),axis=1))>0: return True\n",
    "    else: return False"
   ]
  },
  {
   "cell_type": "code",
   "execution_count": 128,
   "metadata": {},
   "outputs": [
    {
     "data": {
      "text/plain": [
       "(10, 2)"
      ]
     },
     "execution_count": 128,
     "metadata": {},
     "output_type": "execute_result"
    }
   ],
   "source": [
    "c=generateC(10,1)\n",
    "c.shape"
   ]
  },
  {
   "cell_type": "code",
   "execution_count": 130,
   "metadata": {},
   "outputs": [],
   "source": [
    "def sweeping_algo(l):\n",
    "    #l is a list of points of type np.array, assuming there are >= 2 points and sorted by increasing x\n",
    "    order=l[:, 0].argsort()\n",
    "    l=l[order]\n",
    "    N=l.shape[0]\n",
    "\n",
    "    hull=[]\n",
    "\n",
    "    hull.append(l[0])\n",
    "    hull.append(l[1])\n",
    "\n",
    "    for x in l[2:,:]: \n",
    "        if clockwise(hull[-2],hull[-1],x): hull.append(x)\n",
    "        else : \n",
    "            while len(hull)>=2 and not clockwise(hull[-2],hull[-1],x): \n",
    "                hull.pop()\n",
    "            hull.append(x)\n",
    "\n",
    "    for i in reversed(range(N)):\n",
    "        if clockwise(hull[-2],hull[-1],l[i]): hull.append(l[i])\n",
    "        else : \n",
    "            while len(hull)>=2 and not clockwise(hull[-2],hull[-1],l[i]): \n",
    "                hull.pop()\n",
    "            hull.append(l[i])\n",
    "\n",
    "    return np.array(hull)\n"
   ]
  },
  {
   "attachments": {},
   "cell_type": "markdown",
   "metadata": {},
   "source": [
    "Test Sweeping"
   ]
  },
  {
   "cell_type": "code",
   "execution_count": 131,
   "metadata": {},
   "outputs": [],
   "source": [
    "def sweeping_test(N):\n",
    "    C=generateC(N,1)\n",
    "    D=generateD(N,1)\n",
    "\n",
    "    C_hull=sweeping_algo(C)\n",
    "\n",
    "    plt.scatter(D[:,0],D[:,1],c='b')\n",
    "    plt.scatter(C[:,0],C[:,1],c='r')\n",
    "    plt.scatter(C_hull[:,0],C_hull[:,1],marker='x')\n",
    "\n",
    "    plt.show()\n"
   ]
  },
  {
   "cell_type": "code",
   "execution_count": 132,
   "metadata": {},
   "outputs": [
    {
     "ename": "IndexError",
     "evalue": "list index out of range",
     "output_type": "error",
     "traceback": [
      "\u001b[0;31m---------------------------------------------------------------------------\u001b[0m",
      "\u001b[0;31mIndexError\u001b[0m                                Traceback (most recent call last)",
      "\u001b[0;32m/var/folders/s2/2nqmwzkj3dl5tx7slppch48c0000gn/T/ipykernel_25345/1736292673.py\u001b[0m in \u001b[0;36m<module>\u001b[0;34m\u001b[0m\n\u001b[0;32m----> 1\u001b[0;31m \u001b[0msweeping_test\u001b[0m\u001b[0;34m(\u001b[0m\u001b[0;36m50\u001b[0m\u001b[0;34m)\u001b[0m\u001b[0;34m\u001b[0m\u001b[0;34m\u001b[0m\u001b[0m\n\u001b[0m",
      "\u001b[0;32m/var/folders/s2/2nqmwzkj3dl5tx7slppch48c0000gn/T/ipykernel_25345/1010896087.py\u001b[0m in \u001b[0;36msweeping_test\u001b[0;34m(N)\u001b[0m\n\u001b[1;32m      3\u001b[0m     \u001b[0mD\u001b[0m\u001b[0;34m=\u001b[0m\u001b[0mgenerateD\u001b[0m\u001b[0;34m(\u001b[0m\u001b[0mN\u001b[0m\u001b[0;34m,\u001b[0m\u001b[0;36m1\u001b[0m\u001b[0;34m)\u001b[0m\u001b[0;34m\u001b[0m\u001b[0;34m\u001b[0m\u001b[0m\n\u001b[1;32m      4\u001b[0m \u001b[0;34m\u001b[0m\u001b[0m\n\u001b[0;32m----> 5\u001b[0;31m     \u001b[0mC_hull\u001b[0m\u001b[0;34m=\u001b[0m\u001b[0msweeping_algo\u001b[0m\u001b[0;34m(\u001b[0m\u001b[0mC\u001b[0m\u001b[0;34m)\u001b[0m\u001b[0;34m\u001b[0m\u001b[0;34m\u001b[0m\u001b[0m\n\u001b[0m\u001b[1;32m      6\u001b[0m \u001b[0;34m\u001b[0m\u001b[0m\n\u001b[1;32m      7\u001b[0m     \u001b[0mplt\u001b[0m\u001b[0;34m.\u001b[0m\u001b[0mscatter\u001b[0m\u001b[0;34m(\u001b[0m\u001b[0mD\u001b[0m\u001b[0;34m[\u001b[0m\u001b[0;34m:\u001b[0m\u001b[0;34m,\u001b[0m\u001b[0;36m0\u001b[0m\u001b[0;34m]\u001b[0m\u001b[0;34m,\u001b[0m\u001b[0mD\u001b[0m\u001b[0;34m[\u001b[0m\u001b[0;34m:\u001b[0m\u001b[0;34m,\u001b[0m\u001b[0;36m1\u001b[0m\u001b[0;34m]\u001b[0m\u001b[0;34m,\u001b[0m\u001b[0mc\u001b[0m\u001b[0;34m=\u001b[0m\u001b[0;34m'b'\u001b[0m\u001b[0;34m)\u001b[0m\u001b[0;34m\u001b[0m\u001b[0;34m\u001b[0m\u001b[0m\n",
      "\u001b[0;32m/var/folders/s2/2nqmwzkj3dl5tx7slppch48c0000gn/T/ipykernel_25345/3803273166.py\u001b[0m in \u001b[0;36msweeping_algo\u001b[0;34m(l)\u001b[0m\n\u001b[1;32m     13\u001b[0m         \u001b[0;32mif\u001b[0m \u001b[0mclockwise\u001b[0m\u001b[0;34m(\u001b[0m\u001b[0mhull\u001b[0m\u001b[0;34m[\u001b[0m\u001b[0;34m-\u001b[0m\u001b[0;36m2\u001b[0m\u001b[0;34m]\u001b[0m\u001b[0;34m,\u001b[0m\u001b[0mhull\u001b[0m\u001b[0;34m[\u001b[0m\u001b[0;34m-\u001b[0m\u001b[0;36m1\u001b[0m\u001b[0;34m]\u001b[0m\u001b[0;34m,\u001b[0m\u001b[0mx\u001b[0m\u001b[0;34m)\u001b[0m\u001b[0;34m:\u001b[0m \u001b[0mhull\u001b[0m\u001b[0;34m.\u001b[0m\u001b[0mappend\u001b[0m\u001b[0;34m(\u001b[0m\u001b[0mx\u001b[0m\u001b[0;34m)\u001b[0m\u001b[0;34m\u001b[0m\u001b[0;34m\u001b[0m\u001b[0m\n\u001b[1;32m     14\u001b[0m         \u001b[0;32melse\u001b[0m \u001b[0;34m:\u001b[0m\u001b[0;34m\u001b[0m\u001b[0;34m\u001b[0m\u001b[0m\n\u001b[0;32m---> 15\u001b[0;31m             \u001b[0;32mwhile\u001b[0m \u001b[0;32mnot\u001b[0m \u001b[0mclockwise\u001b[0m\u001b[0;34m(\u001b[0m\u001b[0mhull\u001b[0m\u001b[0;34m[\u001b[0m\u001b[0;34m-\u001b[0m\u001b[0;36m2\u001b[0m\u001b[0;34m]\u001b[0m\u001b[0;34m,\u001b[0m\u001b[0mhull\u001b[0m\u001b[0;34m[\u001b[0m\u001b[0;34m-\u001b[0m\u001b[0;36m1\u001b[0m\u001b[0;34m]\u001b[0m\u001b[0;34m,\u001b[0m\u001b[0mx\u001b[0m\u001b[0;34m)\u001b[0m\u001b[0;34m:\u001b[0m\u001b[0;34m\u001b[0m\u001b[0;34m\u001b[0m\u001b[0m\n\u001b[0m\u001b[1;32m     16\u001b[0m                 \u001b[0mhull\u001b[0m\u001b[0;34m.\u001b[0m\u001b[0mpop\u001b[0m\u001b[0;34m(\u001b[0m\u001b[0;34m)\u001b[0m\u001b[0;34m\u001b[0m\u001b[0;34m\u001b[0m\u001b[0m\n\u001b[1;32m     17\u001b[0m             \u001b[0mhull\u001b[0m\u001b[0;34m.\u001b[0m\u001b[0mappend\u001b[0m\u001b[0;34m(\u001b[0m\u001b[0mx\u001b[0m\u001b[0;34m)\u001b[0m\u001b[0;34m\u001b[0m\u001b[0;34m\u001b[0m\u001b[0m\n",
      "\u001b[0;31mIndexError\u001b[0m: list index out of range"
     ]
    }
   ],
   "source": [
    "sweeping_test(50)"
   ]
  },
  {
   "cell_type": "code",
   "execution_count": null,
   "metadata": {},
   "outputs": [],
   "source": []
  }
 ],
 "metadata": {
  "kernelspec": {
   "display_name": "base",
   "language": "python",
   "name": "python3"
  },
  "language_info": {
   "codemirror_mode": {
    "name": "ipython",
    "version": 3
   },
   "file_extension": ".py",
   "mimetype": "text/x-python",
   "name": "python",
   "nbconvert_exporter": "python",
   "pygments_lexer": "ipython3",
   "version": "3.9.15"
  },
  "orig_nbformat": 4,
  "vscode": {
   "interpreter": {
    "hash": "5108440815adba13bcd1a28d7a0269b5d81756309a6fd1490aa47b5b2ccd2ee8"
   }
  }
 },
 "nbformat": 4,
 "nbformat_minor": 2
}
