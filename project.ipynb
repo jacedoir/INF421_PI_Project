{
 "cells": [
  {
   "attachments": {},
   "cell_type": "markdown",
   "metadata": {},
   "source": [
    "Initialisation"
   ]
  },
  {
   "cell_type": "code",
   "execution_count": 4,
   "metadata": {},
   "outputs": [],
   "source": [
    "import numpy as np\n",
    "import numpy.random as rd\n",
    "import matplotlib.pyplot as plt\n",
    "import time\n",
    "\n",
    "N = 10 #Number of points"
   ]
  },
  {
   "attachments": {},
   "cell_type": "markdown",
   "metadata": {},
   "source": [
    "Dataset generation"
   ]
  },
  {
   "cell_type": "code",
   "execution_count": 5,
   "metadata": {},
   "outputs": [],
   "source": [
    "def generateB(n):\n",
    "    \"\"\"\n",
    "    Return list of n list of 2 elements\n",
    "    \"\"\"\n",
    "    return rd.uniform(size=(n, 2))\n",
    "    "
   ]
  },
  {
   "cell_type": "code",
   "execution_count": 6,
   "metadata": {},
   "outputs": [],
   "source": [
    "def generateA(n):\n",
    "\n",
    "    A=generateB(n-4)\n",
    "\n",
    "    #adding the corner\n",
    "    A= np.append(A,[[0,0]],axis=0)\n",
    "    A= np.append(A,[[0,1]],axis=0)\n",
    "    A= np.append(A,[[1,0]],axis=0)\n",
    "    A= np.append(A,[[1,1]],axis=0)\n",
    "\n",
    "    #rotating the set\n",
    "    angle = rd.uniform() * 2 * np.pi\n",
    "    rotation_matrix = np.array([[np.cos(angle), -np.sin(angle)], [np.sin(angle), np.cos(angle)]])\n",
    "    A = A @ rotation_matrix\n",
    "\n",
    "    # Shuffle the points\n",
    "    np.random.shuffle(A)\n",
    "    return A\n"
   ]
  },
  {
   "cell_type": "code",
   "execution_count": 7,
   "metadata": {},
   "outputs": [],
   "source": [
    "def generateC(n,r):\n",
    "    C=[]\n",
    "    while np.size(C,0)<n:\n",
    "        x,y=rd.uniform(0,r),rd.uniform(0,r)\n",
    "        if x**2+y**2<=r**2:\n",
    "            C.append([x,y])\n",
    "    return np.array(C)"
   ]
  },
  {
   "cell_type": "code",
   "execution_count": 8,
   "metadata": {},
   "outputs": [],
   "source": [
    "def generateD(n,r):\n",
    "    D=[]\n",
    "    for i in range(n):\n",
    "        angle = rd.uniform()*2*np.pi\n",
    "        D.append([r*np.cos(angle),r*np.sin(angle)])\n",
    "    return np.array(D)\n"
   ]
  },
  {
   "attachments": {},
   "cell_type": "markdown",
   "metadata": {},
   "source": [
    "Sweeping"
   ]
  },
  {
   "cell_type": "code",
   "execution_count": 9,
   "metadata": {},
   "outputs": [],
   "source": [
    "def sort(L):\n",
    "    return L[L[:,0].argsort()]"
   ]
  },
  {
   "cell_type": "code",
   "execution_count": 10,
   "metadata": {},
   "outputs": [],
   "source": [
    "def orientiation_triangle(A,B,C):\n",
    "    determinent = (B[1] - A[1]) * (C[0] - B[0]) - (B[0] - A[0]) * (C[1] - B[1])\n",
    "    if determinent >= 0:\n",
    "      return \"clockwise\"\n",
    "    else:\n",
    "        return \"counter-clockwise\""
   ]
  },
  {
   "cell_type": "code",
   "execution_count": 11,
   "metadata": {},
   "outputs": [],
   "source": [
    "def view_triangle():\n",
    "    A = [1,0]\n",
    "    B = [0,1]\n",
    "    C = [1,1]\n",
    "    plt.plot(A[0], A[1], marker=\".\")\n",
    "    plt.text(A[0], A[1],'A',horizontalalignment='right')\n",
    "    plt.plot(B[0], B[1], marker=\"X\", markersize=10)\n",
    "    plt.text(B[0], B[1],'B',horizontalalignment='right')\n",
    "    plt.plot(C[0], C[1], marker=\"X\", markersize=10)\n",
    "    plt.text(C[0], C[1],'C',horizontalalignment='right')\n",
    "\n",
    "    print(orientiation_triangle(A,B,C))\n",
    "    plt.show()"
   ]
  },
  {
   "cell_type": "code",
   "execution_count": 12,
   "metadata": {},
   "outputs": [],
   "source": [
    "def sweeping_algorithm_upper(Dataset):\n",
    "    chain=[]\n",
    "\n",
    "    #The first point is a fake one so we ensure that we always have a convex shape\n",
    "    chain.append([Dataset[0][0], Dataset[0][1]-1])\n",
    "\n",
    "    chain.append(Dataset[0])\n",
    "    for i in range(1,np.size(Dataset, axis=0)):\n",
    "        q = chain[-1]\n",
    "        p = chain[-2]\n",
    "        cursor = Dataset[i]\n",
    "    \n",
    "        # Comparision of the sens of the angle\n",
    "        while orientiation_triangle(p,q,cursor) != \"clockwise\" and len(chain) > 2:\n",
    "            chain.pop()\n",
    "            q = chain[-1]\n",
    "            p = chain[-2]\n",
    "\n",
    "        # Adding the cursor point in the chain\n",
    "        chain.append(cursor)\n",
    "    \n",
    "    del chain[0]\n",
    "    return chain\n",
    "\n",
    "    \n",
    "def sweeping_algorithm_lower(Dataset):\n",
    "    chain=[]\n",
    "\n",
    "    #The first point is a fake one so we ensure that we always have a convex shape\n",
    "    chain.append([Dataset[0][0], Dataset[0][1]-1])\n",
    "\n",
    "    chain.append(Dataset[0])\n",
    "    for i in range(1,np.size(Dataset, axis=0)):\n",
    "        q = chain[-1]\n",
    "        p = chain[-2]\n",
    "        cursor = Dataset[i]\n",
    "    \n",
    "        # Comparision of the sens of the angle\n",
    "        while orientiation_triangle(p,q,cursor) == \"clockwise\" and len(chain) > 2:\n",
    "            chain.pop()\n",
    "            q = chain[-1]\n",
    "            p = chain[-2]\n",
    "\n",
    "        # Adding the cursor point in the chain\n",
    "        chain.append(cursor)\n",
    "    \n",
    "    del chain[0]\n",
    "    return chain"
   ]
  },
  {
   "cell_type": "code",
   "execution_count": 13,
   "metadata": {},
   "outputs": [],
   "source": [
    "def affichage_chaine(Dataset):\n",
    "    Dataset = sort(Dataset)\n",
    "    chain_lower = sweeping_algorithm_lower(Dataset)\n",
    "    chain_upper = sweeping_algorithm_upper(Dataset)\n",
    "\n",
    "    #Plot des points\n",
    "    for i in range(np.size(Dataset, axis=0)):\n",
    "        plt.plot(Dataset[i][0], Dataset[i][1], marker=\".\")\n",
    "    \n",
    "    #Plot of seigment\n",
    "    for i in range(len(chain_lower)-1):\n",
    "        plt.plot([chain_lower[i][0],chain_lower[i+1][0]], [chain_lower[i][1],chain_lower[i+1][1]], 'k-')\n",
    "    for i in range(len(chain_upper)-1):\n",
    "        plt.plot([chain_upper[i][0],chain_upper[i+1][0]], [chain_upper[i][1],chain_upper[i+1][1]], 'k-')\n",
    "    \n",
    "    plt.grid()\n",
    "    plt.show()\n"
   ]
  },
  {
   "attachments": {},
   "cell_type": "markdown",
   "metadata": {},
   "source": [
    "Complexity"
   ]
  },
  {
   "cell_type": "code",
   "execution_count": 14,
   "metadata": {},
   "outputs": [
    {
     "data": {
      "image/png": "[encoded data removed]",
      "text/plain": [
       "<Figure size 640x480 with 1 Axes>"
      ]
     },
     "metadata": {},
     "output_type": "display_data"
    }
   ],
   "source": [
    "def print_complexity(upper_limite):\n",
    "    n = []\n",
    "    time_table = []\n",
    "    for i in range(10, upper_limite,100000):\n",
    "        t_init = time.time()\n",
    "        A = generateA(i)\n",
    "        A = sort(A)\n",
    "        chain_lower = sweeping_algorithm_lower(A)\n",
    "        chain_upper = sweeping_algorithm_upper(A)\n",
    "        t_final = time.time()\n",
    "        n.append(i)\n",
    "        time_table.append(t_final-t_init)\n",
    "        \n",
    "        plt.plot(n, time_table)\n",
    "    plt.grid()\n",
    "    plt.show()\n",
    "\n",
    "print_complexity(1000)"
   ]
  },
  {
   "attachments": {},
   "cell_type": "markdown",
   "metadata": {},
   "source": [
    "Output sensitive algorithm"
   ]
  },
  {
   "cell_type": "code",
   "execution_count": 30,
   "metadata": {},
   "outputs": [],
   "source": [
    "def median(L):\n",
    "    if len(L)<=5:\n",
    "        return median_sous_liste(L)\n",
    "    else:\n",
    "        return selection(L, len(L)//2)\n",
    "\n",
    "def selection(L,k):\n",
    "    if len(L)<=5:\n",
    "        return median_sous_liste(L)\n",
    "    else:\n",
    "        liste_of_mediane=[median_sous_liste(L[i:i+5]) for i in range(0, len(L), 5)]\n",
    "        mediane_of_mediane = selection(liste_of_mediane, len(liste_of_mediane)//2)\n",
    "        \n",
    "        under = [x for x in L if x<mediane_of_mediane]\n",
    "        over = [x for x in L if x>= mediane_of_mediane]\n",
    "        \n",
    "        if k < len(under):\n",
    "            return selection(under, k)\n",
    "        elif k == len(under):\n",
    "            return mediane_of_mediane\n",
    "        else:\n",
    "            return selection(over, k - len(under) - 1)\n",
    "\n",
    "\n",
    "def median_sous_liste(L):\n",
    "    L = np.sort(L)\n",
    "    if len(L)==5 :\n",
    "        return L[2]\n",
    "    elif len(L) == 4 :\n",
    "        return (L[1]+L[2])/2\n",
    "    elif len(L)== 3 :\n",
    "        return L[1]\n",
    "    elif len(L) == 2 : \n",
    "        return (L[0]+L[1])/2\n",
    "    else :\n",
    "        return L[0]"
   ]
  },
  {
   "cell_type": "code",
   "execution_count": 52,
   "metadata": {},
   "outputs": [],
   "source": [
    "def above(p1,p2,p3):\n",
    "    \"\"\"\n",
    "    Tells if p1 is above the line defined by p2 and p3\n",
    "    \"\"\"\n",
    "    def function(x):\n",
    "        return ((p3[1]-p2[1])/(p3[0]-p2[0])*(x-p3[0])+p3[1])\n",
    "    if p1[1]> function(p1[0]):\n",
    "        return True\n",
    "    else:\n",
    "        return False"
   ]
  },
  {
   "cell_type": "code",
   "execution_count": 259,
   "metadata": {},
   "outputs": [],
   "source": [
    "def find_basis_plot(dataset):\n",
    "    mediane = median(np.copy(dataset[:,0]).tolist())\n",
    "    print(mediane)\n",
    "    print(np.median(dataset[:,0]))\n",
    "    points_copy = np.copy(dataset)\n",
    "    \n",
    "    #initialization of p1 and p2\n",
    "    p1=np.copy(points_copy[0,:])\n",
    "    i=0\n",
    "    while p1[0]>=mediane:\n",
    "        i=i+1\n",
    "        p1=np.copy(points_copy[i,:])\n",
    "    points_copy= np.delete(points_copy,i,axis=0)     \n",
    "\n",
    "    i=0\n",
    "    p2=np.copy(points_copy[0,:])\n",
    "    while p2[0]<mediane:\n",
    "        i=i+1\n",
    "        p2=np.copy(points_copy[i,:])\n",
    "    points_copy= np.delete(points_copy,i,axis=0)\n",
    "\n",
    "    #Shuffling so we pick up a random point\n",
    "    rd.shuffle(points_copy)\n",
    "\n",
    "    #Applying th algorithm\n",
    "    left=np.array([p1])\n",
    "    right=np.array([p2])\n",
    "\n",
    "    while np.size(points_copy, axis=0)>0:\n",
    "        p3=np.copy(points_copy[0,:])\n",
    "        points_copy= np.delete(points_copy,0,axis=0)\n",
    "        if p3[0]>=mediane:\n",
    "            right = np.append(right,[p3],axis=0)\n",
    "            if above(p3,p1,p2):\n",
    "                min_pente =  -1*np.inf\n",
    "                indice_min_pente = -1\n",
    "                for i in range(len(left)):\n",
    "                    pente = (p3[1]-left[i][1])/(p3[0]-left[i][0])\n",
    "                    if pente>min_pente:\n",
    "                        min_pente=pente\n",
    "                        indice_min_pente=i\n",
    "                    p1=np.copy(left[indice_min_pente,:])\n",
    "                    p2=np.copy(p3)\n",
    "        else:\n",
    "            left = np.append(left,[p3],axis=0)\n",
    "            if above(p3,p1,p2):\n",
    "                min_pente= -np.inf\n",
    "                indice_min_pente = -1\n",
    "                for i in range(len(right)):\n",
    "                    pente = (right[i][1]-p3[1])/(right[i][0]-p3[0])\n",
    "                    if pente>min_pente:\n",
    "                        min_pente=pente\n",
    "                        indice_min_pente=i\n",
    "                    p1=np.copy(p3)\n",
    "                    p2=np.copy(right[indice_min_pente,:])\n",
    "    return p1,p2\n"
   ]
  },
  {
   "cell_type": "code",
   "execution_count": 279,
   "metadata": {},
   "outputs": [
    {
     "name": "stdout",
     "output_type": "stream",
     "text": [
      "-0.9508234257302045\n",
      "-0.8612639226591559\n"
     ]
    },
    {
     "data": {
      "image/png": "[encoded data removed]",
      "text/plain": [
       "<Figure size 640x480 with 1 Axes>"
      ]
     },
     "metadata": {},
     "output_type": "display_data"
    }
   ],
   "source": [
    "def print_find_basis(dataset):\n",
    "    #Plot des points\n",
    "    plt.axvline(np.median(dataset[:,0]))\n",
    "    for i in range(np.size(dataset, axis=0)):\n",
    "       plt.plot(dataset[i][0], dataset[i][1], marker=\".\")\n",
    "\n",
    "    p1,p2 =find_basis_plot(dataset)\n",
    "    \n",
    "    \n",
    "    plt.plot([p1[0],p2[0]],[p1[1],p2[1]], 'k-')\n",
    "    plt.grid()\n",
    "    plt.show()\n",
    "\n",
    "print_find_basis(generateA(20))"
   ]
  }
 ],
 "metadata": {
  "kernelspec": {
   "display_name": "Python 3",
   "language": "python",
   "name": "python3"
  },
  "language_info": {
   "codemirror_mode": {
    "name": "ipython",
    "version": 3
   },
   "file_extension": ".py",
   "mimetype": "text/x-python",
   "name": "python",
   "nbconvert_exporter": "python",
   "pygments_lexer": "ipython3",
   "version": "3.10.7"
  },
  "orig_nbformat": 4,
  "vscode": {
   "interpreter": {
    "hash": "aee8b7b246df8f9039afb4144a1f6fd8d2ca17a180786b69acc140d282b71a49"
   }
  }
 },
 "nbformat": 4,
 "nbformat_minor": 2
}
