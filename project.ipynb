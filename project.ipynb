{
 "cells": [
  {
   "attachments": {},
   "cell_type": "markdown",
   "metadata": {},
   "source": [
    "Initialisation"
   ]
  },
  {
   "cell_type": "code",
   "execution_count": 64,
   "metadata": {},
   "outputs": [],
   "source": [
    "import numpy as np\n",
    "import numpy.random as rd\n",
    "import matplotlib.pyplot as plt\n",
    "import time\n",
    "from math import log\n",
    "\n",
    "N = 10 #Number of points"
   ]
  },
  {
   "attachments": {},
   "cell_type": "markdown",
   "metadata": {},
   "source": [
    "Dataset generation"
   ]
  },
  {
   "cell_type": "code",
   "execution_count": 18,
   "metadata": {},
   "outputs": [],
   "source": [
    "def point_generation():\n",
    "    \"\"\"\n",
    "    Return a list of two numbers in [0,1]\n",
    "    \"\"\"\n",
    "    return rd.rand(2)"
   ]
  },
  {
   "cell_type": "code",
   "execution_count": 19,
   "metadata": {},
   "outputs": [],
   "source": [
    "def generateB(n):\n",
    "    \"\"\"\n",
    "    Return list of n list of 2 elements\n",
    "    \"\"\"\n",
    "    return rd.uniform(size=(n, 2))"
   ]
  },
  {
   "cell_type": "code",
   "execution_count": 20,
   "metadata": {},
   "outputs": [],
   "source": [
    "def generateA(n):\n",
    "\n",
    "    A=generateB(n-4)\n",
    "\n",
    "    #adding the corner\n",
    "    A= np.append(A,[[0,0]],axis=0)\n",
    "    A= np.append(A,[[0,1]],axis=0)\n",
    "    A= np.append(A,[[1,0]],axis=0)\n",
    "    A= np.append(A,[[1,1]],axis=0)\n",
    "\n",
    "    #rotating the set\n",
    "    angle = rd.uniform() * 2 * np.pi\n",
    "    rotation_matrix = np.array([[np.cos(angle), -np.sin(angle)], [np.sin(angle), np.cos(angle)]])\n",
    "    A = A @ rotation_matrix\n",
    "\n",
    "    # Shuffle the points\n",
    "    np.random.shuffle(A)\n",
    "    return A\n"
   ]
  },
  {
   "cell_type": "code",
   "execution_count": 21,
   "metadata": {},
   "outputs": [],
   "source": [
    "def generateC(n,r):\n",
    "    C=[]\n",
    "    for i in range(n):\n",
    "        ri=rd.uniform()*r\n",
    "        ai = rd.uniform()*2*np.pi\n",
    "        C.append( np.array([ri*np.cos(ai),ri*np.sin(ai)]))\n",
    "    return np.array(C)"
   ]
  },
  {
   "cell_type": "code",
   "execution_count": 22,
   "metadata": {},
   "outputs": [],
   "source": [
    "def generateD(n,r):\n",
    "    D=[]\n",
    "    for i in range(n):\n",
    "        angle = rd.uniform()*2*np.pi\n",
    "        D.append( np.array([r*np.cos(angle),r*np.sin(angle)]))\n",
    "    return np.array(D)\n"
   ]
  },
  {
   "attachments": {},
   "cell_type": "markdown",
   "metadata": {},
   "source": [
    "Sweeping"
   ]
  },
  {
   "cell_type": "code",
   "execution_count": 23,
   "metadata": {},
   "outputs": [],
   "source": [
    "def clockwise(a,b,c):\n",
    "    #Takes 3 points a,b,c of type np.array and return if the triangle ABC is clock-wised \n",
    "    \n",
    "    if np.linalg.det(np.concatenate(((c-b).reshape(2,1),(b-a).reshape(2,1)),axis=1))>0: return True\n",
    "    else: return False"
   ]
  },
  {
   "cell_type": "code",
   "execution_count": 24,
   "metadata": {},
   "outputs": [],
   "source": [
    "def sweeping_algo(l):\n",
    "    #l is a list of points of type np.array, assuming there are >= 2 points and sorted by increasing x\n",
    "    order=l[:, 0].argsort()\n",
    "    l=l[order]\n",
    "    N=l.shape[0]\n",
    "\n",
    "    hull=[]\n",
    "\n",
    "    hull.append(l[0])\n",
    "    hull.append(l[1])\n",
    "\n",
    "    for i in (range(2,N)):\n",
    "        if clockwise(hull[-2],hull[-1],l[i]): hull.append(l[i])\n",
    "        else : \n",
    "            while len(hull)>=2 and not clockwise(hull[-2],hull[-1],l[i]): \n",
    "                hull.pop()\n",
    "            hull.append(l[i])\n",
    "\n",
    "    hull2=[]\n",
    "    hull2.append(l[N-1])\n",
    "    hull2.append(l[N-2])\n",
    "\n",
    "    for i in reversed(range(N-2)):\n",
    "        if clockwise(hull2[-2],hull2[-1],l[i]): hull2.append(l[i])\n",
    "        else : \n",
    "            while len(hull2)>=2 and not clockwise(hull2[-2],hull2[-1],l[i]): \n",
    "                hull2.pop()\n",
    "            hull2.append(l[i])\n",
    "    \n",
    "    return np.array(hull+hull2)\n"
   ]
  },
  {
   "attachments": {},
   "cell_type": "markdown",
   "metadata": {},
   "source": [
    "Test Sweeping"
   ]
  },
  {
   "cell_type": "code",
   "execution_count": 25,
   "metadata": {},
   "outputs": [],
   "source": [
    "def sweeping_test(N):\n",
    "    c=generateC(N,1)\n",
    "\n",
    "    cHull=sweeping_algo(c)\n",
    "\n",
    "    plt.plot(c[:,0],c[:,1],'xb')\n",
    "    plt.plot(cHull[:,0],cHull[:,1],'-r')\n",
    "\n",
    "    plt.show()\n"
   ]
  },
  {
   "cell_type": "code",
   "execution_count": 26,
   "metadata": {},
   "outputs": [],
   "source": [
    "def complexity_sweeping(N):\n",
    "    R=range(int(1e6),N,5*int(1e6))\n",
    "    T=[]\n",
    "    for i in R:\n",
    "        start_time = time.time()\n",
    "        sweeping_algo(generateC(i,1))\n",
    "        T.append( time.time() - start_time )\n",
    "    plt.plot(R,T,'-r')\n",
    "    plt.show()"
   ]
  },
  {
   "cell_type": "code",
   "execution_count": 27,
   "metadata": {},
   "outputs": [],
   "source": [
    "#Output sensitive algorithm\n",
    "\n",
    "def median(L):\n",
    "    if len(L)<=5:\n",
    "        return median_sous_liste(L)\n",
    "    else:\n",
    "        return selection(L, len(L)//2)\n",
    "\n",
    "def selection(L,k):\n",
    "    if len(L)<=5:\n",
    "        return median_sous_liste(L)\n",
    "    else:\n",
    "        liste_of_mediane=[median_sous_liste(L[i:i+5]) for i in range(0, len(L), 5)]\n",
    "        mediane_of_mediane = selection(liste_of_mediane, len(liste_of_mediane)//2)\n",
    "        \n",
    "        under = [x for x in L if x<mediane_of_mediane]\n",
    "        over = [x for x in L if x>= mediane_of_mediane]\n",
    "        \n",
    "        if k < len(under):\n",
    "            return selection(under, k)\n",
    "        elif k == len(under):\n",
    "            return mediane_of_mediane\n",
    "        else:\n",
    "            return selection(over, k - len(under) - 1)\n",
    "\n",
    "\n",
    "def median_sous_liste(L):\n",
    "    L = np.sort(L)\n",
    "    if len(L)==5 :\n",
    "        return L[2]\n",
    "    elif len(L) == 4 :\n",
    "        return (L[1]+L[2])/2\n",
    "    elif len(L)== 3 :\n",
    "        return L[1]\n",
    "    elif len(L) == 2 : \n",
    "        return (L[0]+L[1])/2\n",
    "    else :\n",
    "        return L[0]\n",
    "def above(p1,p2,p3):\n",
    "    \"\"\"\n",
    "    Tells if p1 is above the line defined by p2 and p3\n",
    "    \"\"\"\n",
    "    def function(x):\n",
    "        return ((p3[1]-p2[1])/(p3[0]-p2[0])*(x-p3[0])+p3[1])\n",
    "    if p1[1]> function(p1[0]):\n",
    "        return True\n",
    "    else:\n",
    "        return False\n",
    "def find_basis_plot(dataset):\n",
    "    mediane = median(np.copy(dataset[:,0]).tolist())\n",
    "    points_copy = np.copy(dataset)\n",
    "    \n",
    "    #initialization of p1 and p2\n",
    "    p1=np.copy(points_copy[0,:])\n",
    "    i=0\n",
    "    while p1[0]>=mediane:\n",
    "        i=i+1\n",
    "        p1=np.copy(points_copy[i,:])\n",
    "    points_copy= np.delete(points_copy,i,axis=0)     \n",
    "\n",
    "    i=0\n",
    "    p2=np.copy(points_copy[0,:])\n",
    "    while p2[0]<mediane:\n",
    "        i=i+1\n",
    "        p2=np.copy(points_copy[i,:])\n",
    "    points_copy= np.delete(points_copy,i,axis=0)\n",
    "\n",
    "    #Shuffling so we pick up a random point\n",
    "    rd.shuffle(points_copy)\n",
    "\n",
    "    #Applying th algorithm\n",
    "    left=np.array([p1])\n",
    "    right=np.array([p2])\n",
    "\n",
    "    while np.size(points_copy, axis=0)>0:\n",
    "        p3=np.copy(points_copy[0,:])\n",
    "        points_copy= np.delete(points_copy,0,axis=0)\n",
    "        if p3[0]>=mediane:\n",
    "            right = np.append(right,[p3],axis=0)\n",
    "            if above(p3,p1,p2):\n",
    "                max_pente =  np.inf\n",
    "                indice_max_pente = -1\n",
    "                for i in range(len(left)):\n",
    "                    pente = (p3[1]-left[i][1])/(p3[0]-left[i][0])\n",
    "                    if pente<max_pente:\n",
    "                        max_pente=pente\n",
    "                        indice_max_pente=i\n",
    "                    p1=np.copy(left[indice_max_pente,:])\n",
    "                    p2=np.copy(p3)\n",
    "        else:\n",
    "            left = np.append(left,[p3],axis=0)\n",
    "            if above(p3,p1,p2):\n",
    "                min_pente= -np.inf\n",
    "                indice_min_pente = -1\n",
    "                for i in range(len(right)):\n",
    "                    pente = (right[i][1]-p3[1])/(right[i][0]-p3[0])\n",
    "                    if pente>min_pente:\n",
    "                        min_pente=pente\n",
    "                        indice_min_pente=i\n",
    "                    p1=np.copy(p3)\n",
    "                    p2=np.copy(right[indice_min_pente,:])\n",
    "    return p1,p2\n",
    "def print_find_basis(dataset):\n",
    "    #Plot des points\n",
    "    plt.axvline(np.median(dataset[:,0]))\n",
    "    for i in range(np.size(dataset, axis=0)):\n",
    "       plt.plot(dataset[i][0], dataset[i][1], marker=\".\", color=\"b\")\n",
    "\n",
    "    p1,p2 =find_basis_plot(dataset)\n",
    "    \n",
    "    \n",
    "    plt.plot([p1[0],p2[0]],[p1[1],p2[1]], 'k-')\n",
    "    plt.grid()\n",
    "    plt.show()"
   ]
  },
  {
   "cell_type": "code",
   "execution_count": 28,
   "metadata": {},
   "outputs": [],
   "source": [
    "def hull_by_basis(dataset):\n",
    "    if np.size(dataset, axis=0)==2:\n",
    "        return [dataset[0],dataset[1]]\n",
    "    elif np.size(dataset, axis=0)==1:\n",
    "        return [dataset[0]]\n",
    "    else :\n",
    "        l,r = find_basis_plot(dataset)\n",
    "        left = []\n",
    "        right = []\n",
    "        for p in range(np.size(dataset, axis=0)):\n",
    "            if dataset[p][0]<=l[0]:\n",
    "                left.append(dataset[p])\n",
    "            elif dataset[p][0]>= r[0]:\n",
    "                right.append(dataset[p])\n",
    "        left = np.array(left)\n",
    "        right = np.array(right)\n",
    "        return hull_by_basis(left)+ [l,r] + hull_by_basis(right)\n",
    "\n",
    "def print_hull_by_basis(dataset):\n",
    "   for i in range(np.size(dataset, axis=0)):\n",
    "      plt.plot(dataset[i][0], dataset[i][1], marker=\".\", color=\"b\")\n",
    "   #upper hull\n",
    "\n",
    "   hull = hull_by_basis(dataset)\n",
    "   for i in range(len(hull)-1):\n",
    "      plt.plot([hull[i][0],hull[i+1][0]],[hull[i][1],hull[i+1][1]], 'k-')\n",
    "   \n",
    "   #lower hull\n",
    "   dataset = np.dot(dataset, np.array([[1,0],[0,-1]]))\n",
    "   hull=hull_by_basis(dataset)\n",
    "   for i in range(len(hull)-1):\n",
    "      plt.plot([hull[i][0],hull[i+1][0]],[-hull[i][1],-hull[i+1][1]], 'k-')\n",
    "\n",
    "   plt.grid()\n",
    "   plt.show()"
   ]
  },
  {
   "attachments": {},
   "cell_type": "markdown",
   "metadata": {},
   "source": [
    "Comparaison"
   ]
  },
  {
   "cell_type": "code",
   "execution_count": 68,
   "metadata": {},
   "outputs": [],
   "source": [
    "def complexity_comparaison():\n",
    "    i=int(1e2)\n",
    "    s=int(1e4)\n",
    "    step=5*int(1e2)\n",
    "\n",
    "    i2=int(1e4)\n",
    "    s2=int(1e5)\n",
    "    step2=int(1e4)\n",
    "\n",
    "    i3=int(1e5)\n",
    "    s3=int(1e6)\n",
    "    step3=2*int(1e5)\n",
    "\n",
    "    R=list(range(i,s,step))+list(range(i2,s2,step2))+list(range(i3,s3,step3))\n",
    "    Ta=[[],[]]\n",
    "    Tc=[[],[]]\n",
    "\n",
    "    for i in R : \n",
    "        \n",
    "        a=generateA(i)\n",
    "        start_time = time.time()\n",
    "        sweeping_algo(a)\n",
    "        Ta[0].append( time.time() - start_time )\n",
    "\n",
    "        start_time = time.time()\n",
    "        hull_by_basis(a)\n",
    "        a = np.dot(a, np.array([[1,0],[0,-1]]))\n",
    "        hull_by_basis(a)\n",
    "        Ta[1].append( time.time() - start_time )\n",
    "\n",
    "        c=generateC(i,1)\n",
    "        start_time = time.time()\n",
    "        sweeping_algo(c)\n",
    "        Tc[0].append( time.time() - start_time )\n",
    "\n",
    "        start_time = time.time()\n",
    "        hull_by_basis(c)\n",
    "        c = np.dot(c, np.array([[1,0],[0,-1]]))\n",
    "        hull_by_basis(c)\n",
    "        Tc[1].append( time.time() - start_time )\n",
    "    \n",
    "    \n",
    "    plt.plot(R,Ta[0],'-xr',label='Temps pour un dataset de type A avec sweeping')\n",
    "    plt.plot(R,Ta[1],'--xr',label='Temps pour un dataset de type A avec 2e algo')\n",
    "    plt.plot(R,Tc[0],'-xb',label='Temps pour un dataset de type C avec sweeping')\n",
    "    plt.plot(R,Tc[1],'--xb',label='Temps pour un dataset de type C avec 2e algo')\n",
    "\n",
    "    plt.xlabel('Nombre de points')\n",
    "    plt.ylabel('Temps')\n",
    "    plt.legend()\n",
    "    plt.grid()\n",
    "    \n",
    "    plt.show()"
   ]
  },
  {
   "cell_type": "code",
   "execution_count": 69,
   "metadata": {},
   "outputs": [
    {
     "data": {
      "image/png": "[encoded data removed]",
      "text/plain": [
       "<Figure size 640x480 with 1 Axes>"
      ]
     },
     "metadata": {},
     "output_type": "display_data"
    }
   ],
   "source": [
    "complexity_comparaison()"
   ]
  },
  {
   "cell_type": "code",
   "execution_count": null,
   "metadata": {},
   "outputs": [],
   "source": []
  }
 ],
 "metadata": {
  "kernelspec": {
   "display_name": "Python 3.9.15 ('base')",
   "language": "python",
   "name": "python3"
  },
  "language_info": {
   "codemirror_mode": {
    "name": "ipython",
    "version": 3
   },
   "file_extension": ".py",
   "mimetype": "text/x-python",
   "name": "python",
   "nbconvert_exporter": "python",
   "pygments_lexer": "ipython3",
   "version": "3.9.15"
  },
  "orig_nbformat": 4,
  "vscode": {
   "interpreter": {
    "hash": "5108440815adba13bcd1a28d7a0269b5d81756309a6fd1490aa47b5b2ccd2ee8"
   }
  }
 },
 "nbformat": 4,
 "nbformat_minor": 2
}
