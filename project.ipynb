{
 "cells": [
  {
   "attachments": {},
   "cell_type": "markdown",
   "metadata": {},
   "source": [
    "Initialisation"
   ]
  },
  {
   "cell_type": "code",
   "execution_count": null,
   "metadata": {},
   "outputs": [],
   "source": [
    "import numpy as np\n",
    "import numpy.random as rd\n",
    "import matplotlib.pyplot as plt\n",
    "import time\n",
    "\n",
    "N = 10 #Number of points"
   ]
  },
  {
   "attachments": {},
   "cell_type": "markdown",
   "metadata": {},
   "source": [
    "Dataset generation"
   ]
  },
  {
   "cell_type": "code",
   "execution_count": null,
   "metadata": {},
   "outputs": [],
   "source": [
    "def pointgeneration():\n",
    "    \"\"\"\n",
    "    Return a list of two numbers in [0,1]\n",
    "    \"\"\"\n",
    "    return rd.rand(2)"
   ]
  },
  {
   "cell_type": "code",
   "execution_count": null,
   "metadata": {},
   "outputs": [],
   "source": [
    "def generateB(n):\n",
    "    \"\"\"\n",
    "    Return list of n list of 2 elements\n",
    "    \"\"\"\n",
    "    return rd.uniform(size=(n, 2))"
   ]
  },
  {
   "cell_type": "code",
   "execution_count": null,
   "metadata": {},
   "outputs": [],
   "source": [
    "def generateA(n):\n",
    "\n",
    "    A=generateB(n-4)\n",
    "\n",
    "    #adding the corner\n",
    "    A= np.append(A,[[0,0]],axis=0)\n",
    "    A= np.append(A,[[0,1]],axis=0)\n",
    "    A= np.append(A,[[1,0]],axis=0)\n",
    "    A= np.append(A,[[1,1]],axis=0)\n",
    "\n",
    "    #rotating the set\n",
    "    angle = rd.uniform() * 2 * np.pi\n",
    "    rotation_matrix = np.array([[np.cos(angle), -np.sin(angle)], [np.sin(angle), np.cos(angle)]])\n",
    "    A = A @ rotation_matrix\n",
    "\n",
    "    # Shuffle the points\n",
    "    np.random.shuffle(A)\n",
    "    return A\n"
   ]
  },
  {
   "cell_type": "code",
   "execution_count": null,
   "metadata": {},
   "outputs": [],
   "source": [
    "def generateC(n,r):\n",
    "    C=[]\n",
    "    for i in range(n):\n",
    "        ri=rd.uniform()*r\n",
    "        ai = rd.uniform()*2*np.pi\n",
    "        C.append( np.array([ri*np.cos(ai),ri*np.sin(ai)]))\n",
    "    return np.array(C)"
   ]
  },
  {
   "cell_type": "code",
   "execution_count": null,
   "metadata": {},
   "outputs": [],
   "source": [
    "def generateD(n,r):\n",
    "    D=[]\n",
    "    for i in range(n):\n",
    "        angle = rd.uniform()*2*np.pi\n",
    "        D.append( np.array([r*np.cos(angle),r*np.sin(angle)]))\n",
    "    return np.array(D)\n"
   ]
  },
  {
   "attachments": {},
   "cell_type": "markdown",
   "metadata": {},
   "source": [
    "Sweeping"
   ]
  },
  {
   "cell_type": "code",
   "execution_count": null,
   "metadata": {},
   "outputs": [],
   "source": [
    "def clockwise(a,b,c):\n",
    "    #Takes 3 points a,b,c of type np.array and return if the triangle ABC is clock-wised \n",
    "    \n",
    "    if np.linalg.det(np.concatenate(((c-b).reshape(2,1),(b-a).reshape(2,1)),axis=1))>0: return True\n",
    "    else: return False"
   ]
  },
  {
   "cell_type": "code",
   "execution_count": null,
   "metadata": {},
   "outputs": [],
   "source": [
    "def sweeping_algo(l):\n",
    "    #l is a list of points of type np.array, assuming there are >= 2 points and sorted by increasing x\n",
    "    order=l[:, 0].argsort()\n",
    "    l=l[order]\n",
    "    N=l.shape[0]\n",
    "\n",
    "    hull=[]\n",
    "\n",
    "    hull.append(l[0])\n",
    "    hull.append(l[1])\n",
    "\n",
    "    for i in (range(2,N)):\n",
    "        if clockwise(hull[-2],hull[-1],l[i]): hull.append(l[i])\n",
    "        else : \n",
    "            while len(hull)>=2 and not clockwise(hull[-2],hull[-1],l[i]): \n",
    "                hull.pop()\n",
    "            hull.append(l[i])\n",
    "\n",
    "    hull2=[]\n",
    "    hull2.append(l[N-1])\n",
    "    hull2.append(l[N-2])\n",
    "\n",
    "    for i in reversed(range(N-2)):\n",
    "        if clockwise(hull2[-2],hull2[-1],l[i]): hull2.append(l[i])\n",
    "        else : \n",
    "            while len(hull2)>=2 and not clockwise(hull2[-2],hull2[-1],l[i]): \n",
    "                hull2.pop()\n",
    "            hull2.append(l[i])\n",
    "    \n",
    "    return np.array(hull+hull2)\n"
   ]
  },
  {
   "attachments": {},
   "cell_type": "markdown",
   "metadata": {},
   "source": [
    "Test Sweeping"
   ]
  },
  {
   "cell_type": "code",
   "execution_count": null,
   "metadata": {},
   "outputs": [],
   "source": [
    "def sweeping_test(N):\n",
    "    c=generateC(N,1)\n",
    "\n",
    "    cHull=sweeping_algo(c)\n",
    "\n",
    "    plt.plot(c[:,0],c[:,1],'xb')\n",
    "    plt.plot(cHull[:,0],cHull[:,1],'-r')\n",
    "\n",
    "    plt.show()\n"
   ]
  },
  {
   "cell_type": "code",
   "execution_count": null,
   "metadata": {},
   "outputs": [],
   "source": [
    "def complexity_sweeping(N):\n",
    "    R=range(int(1e6),N,5*int(1e6))\n",
    "    T=[]\n",
    "    for i in R:\n",
    "        start_time = time.time()\n",
    "        sweeping_algo(generateC(i,1))\n",
    "        T.append( time.time() - start_time )\n",
    "    plt.plot(R,T,'-r')\n",
    "    plt.show()"
   ]
  },
  {
   "cell_type": "code",
   "execution_count": null,
   "metadata": {},
   "outputs": [],
   "source": [
    "complexity_sweeping(int(1e8))"
   ]
  },
  {
   "attachments": {},
   "cell_type": "markdown",
   "metadata": {},
   "source": [
    "Output-sensitive algorithm "
   ]
  },
  {
   "attachments": {},
   "cell_type": "markdown",
   "metadata": {},
   "source": [
    "Median "
   ]
  },
  {
   "cell_type": "code",
   "execution_count": null,
   "metadata": {},
   "outputs": [],
   "source": [
    "def median(L):\n",
    "    if len(L)<=5:\n",
    "        return median_sous_liste(L)\n",
    "    else:\n",
    "        return selection(L, len(L)//2)\n",
    "\n",
    "def selection(L,k):\n",
    "    if len(L)<=5:\n",
    "        return median_sous_liste(L)\n",
    "    else:\n",
    "        liste_of_mediane=[median_sous_liste(L[i:i+5]) for i in range(0, len(L), 5)]\n",
    "        mediane_of_mediane = selection(liste_of_mediane, len(liste_of_mediane)//2)\n",
    "        \n",
    "        under = [x for x in L if x<mediane_of_mediane]\n",
    "        over = [x for x in L if x>= mediane_of_mediane]\n",
    "        \n",
    "        if k < len(under):\n",
    "            return selection(under, k)\n",
    "        elif k == len(under):\n",
    "            return mediane_of_mediane\n",
    "        else:\n",
    "            return selection(over, k - len(under) - 1)\n",
    "\n",
    "\n",
    "def median_sous_liste(L):\n",
    "    L = np.sort(L)\n",
    "    if len(L)==5 :\n",
    "        return L[2]\n",
    "    elif len(L) == 4 :\n",
    "        return (L[1]+L[2])/2\n",
    "    elif len(L)== 3 :\n",
    "        return L[1]\n",
    "    elif len(L) == 2 : \n",
    "        return (L[0]+L[1])/2\n",
    "    else :\n",
    "        return L[0]"
   ]
  },
  {
   "cell_type": "code",
   "execution_count": null,
   "metadata": {},
   "outputs": [],
   "source": []
  }
 ],
 "metadata": {
  "kernelspec": {
   "display_name": "base",
   "language": "python",
   "name": "python3"
  },
  "language_info": {
   "codemirror_mode": {
    "name": "ipython",
    "version": 3
   },
   "file_extension": ".py",
   "mimetype": "text/x-python",
   "name": "python",
   "nbconvert_exporter": "python",
   "pygments_lexer": "ipython3",
   "version": "3.9.15 (main, Nov  4 2022, 11:11:31) \n[Clang 12.0.0 ]"
  },
  "orig_nbformat": 4,
  "vscode": {
   "interpreter": {
    "hash": "8a5edab282632443219e051e4ade2d1d5bbc671c781051bf1437897cbdfea0f1"
   }
  }
 },
 "nbformat": 4,
 "nbformat_minor": 2
}
