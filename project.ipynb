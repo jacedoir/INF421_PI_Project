{
 "cells": [
  {
   "attachments": {},
   "cell_type": "markdown",
   "metadata": {},
   "source": [
    "Initialisation"
   ]
  },
  {
   "cell_type": "code",
   "execution_count": 1,
   "metadata": {},
   "outputs": [],
   "source": [
    "import numpy as np\n",
    "import numpy.random as rd\n",
    "import matplotlib.pyplot as plt\n",
    "\n",
    "N = 10 #Number of points"
   ]
  },
  {
   "attachments": {},
   "cell_type": "markdown",
   "metadata": {},
   "source": [
    "Dataset generation"
   ]
  },
  {
   "cell_type": "code",
   "execution_count": 2,
   "metadata": {},
   "outputs": [],
   "source": [
    "def pointgeneration():\n",
    "    \"\"\"\n",
    "    Return a list of two numbers in [0,1]\n",
    "    \"\"\"\n",
    "    return rd.rand(2)"
   ]
  },
  {
   "cell_type": "code",
   "execution_count": 3,
   "metadata": {},
   "outputs": [
    {
     "name": "stdout",
     "output_type": "stream",
     "text": [
      "[[0.13791911 0.28262765]\n",
      " [0.64453315 0.42437145]\n",
      " [0.64498635 0.19103537]\n",
      " [0.13064263 0.08828359]\n",
      " [0.19031515 0.66404789]\n",
      " [0.90810119 0.87934981]\n",
      " [0.7486916  0.63543625]\n",
      " [0.0203823  0.57599988]\n",
      " [0.59905336 0.13502424]\n",
      " [0.65414315 0.72197237]]\n"
     ]
    }
   ],
   "source": [
    "def generateB(n):\n",
    "    \"\"\"\n",
    "    Return list of n list of 2 elements\n",
    "    \"\"\"\n",
    "    return rd.uniform(size=(n, 2))\n",
    "    \n",
    "print(generateB(N))"
   ]
  },
  {
   "cell_type": "code",
   "execution_count": 4,
   "metadata": {},
   "outputs": [],
   "source": [
    "def generateA(n):\n",
    "\n",
    "    A=generateB(n-4)\n",
    "\n",
    "    #adding the corner\n",
    "    A= np.append(A,[[0,0]],axis=0)\n",
    "    A= np.append(A,[[0,1]],axis=0)\n",
    "    A= np.append(A,[[1,0]],axis=0)\n",
    "    A= np.append(A,[[1,1]],axis=0)\n",
    "\n",
    "    #rotating the set\n",
    "    angle = rd.uniform() * 2 * np.pi\n",
    "    rotation_matrix = np.array([[np.cos(angle), -np.sin(angle)], [np.sin(angle), np.cos(angle)]])\n",
    "    A = A @ rotation_matrix\n",
    "\n",
    "    # Shuffle the points\n",
    "    np.random.shuffle(A)\n",
    "    return A\n"
   ]
  },
  {
   "cell_type": "code",
   "execution_count": 213,
   "metadata": {},
   "outputs": [],
   "source": [
    "def generateC(n,r):\n",
    "    C=[]\n",
    "    i=0\n",
    "    while i<n:\n",
    "        x,y=rd.uniform(-r,r),rd.uniform(-r,r)\n",
    "        if x**2+y**2<=r**2:\n",
    "            C.append(np.array([x,y]))\n",
    "            i+=1\n",
    "    return np.array(C)"
   ]
  },
  {
   "cell_type": "code",
   "execution_count": 215,
   "metadata": {},
   "outputs": [],
   "source": [
    "def generateD(n,r):\n",
    "    D=[]\n",
    "    for i in range(n):\n",
    "        angle = rd.uniform()*2*np.pi\n",
    "        D.append( np.array([r*np.cos(angle),r*np.sin(angle)]))\n",
    "    return np.array(D)\n"
   ]
  },
  {
   "attachments": {},
   "cell_type": "markdown",
   "metadata": {},
   "source": [
    "Sweeping"
   ]
  },
  {
   "cell_type": "code",
   "execution_count": 43,
   "metadata": {},
   "outputs": [],
   "source": [
    "def clockwise(a,b,c):\n",
    "    #Takes 3 points a,b,c of type np.array and return if the triangle ABC is clock-wised \n",
    "    \n",
    "    if np.linalg.det(np.concatenate(((c-b).reshape(2,1),(b-a).reshape(2,1)),axis=1))>0: return True\n",
    "    else: return False"
   ]
  },
  {
   "cell_type": "code",
   "execution_count": 220,
   "metadata": {},
   "outputs": [],
   "source": [
    "def sweeping_algo(l):\n",
    "    #l is a list of points of type np.array, assuming there are >= 2 points and sorted by increasing x\n",
    "    order=l[:, 0].argsort()\n",
    "    l=l[order]\n",
    "    N=l.shape[0]\n",
    "\n",
    "    hull=[]\n",
    "\n",
    "    hull.append(l[0])\n",
    "    hull.append(l[1])\n",
    "\n",
    "    for i in (range(2,N)):\n",
    "        if clockwise(hull[-2],hull[-1],l[i]): hull.append(l[i])\n",
    "        else : \n",
    "            while len(hull)>=2 and not clockwise(hull[-2],hull[-1],l[i]): \n",
    "                hull.pop()\n",
    "            hull.append(l[i])\n",
    "\n",
    "    hull2=[]\n",
    "    hull2.append(l[N-1])\n",
    "    hull2.append(l[N-2])\n",
    "\n",
    "    for i in reversed(range(N-2)):\n",
    "        if clockwise(hull2[-2],hull2[-1],l[i]): hull2.append(l[i])\n",
    "        else : \n",
    "            while len(hull2)>=2 and not clockwise(hull2[-2],hull2[-1],l[i]): \n",
    "                hull2.pop()\n",
    "            hull2.append(l[i])\n",
    "    \n",
    "    return np.array(hull+hull2)\n"
   ]
  },
  {
   "attachments": {},
   "cell_type": "markdown",
   "metadata": {},
   "source": [
    "Test Sweeping"
   ]
  },
  {
   "cell_type": "code",
   "execution_count": 241,
   "metadata": {},
   "outputs": [],
   "source": [
    "def sweeping_test(N):\n",
    "    c=generateC(N,1)\n",
    "\n",
    "    cHull=sweeping_algo(c)\n",
    "\n",
    "    plt.plot(c[:,0],c[:,1],'xb')\n",
    "    plt.plot(cHull[:,0],cHull[:,1],'-r')\n",
    "\n",
    "    plt.show()\n"
   ]
  },
  {
   "cell_type": "code",
   "execution_count": 242,
   "metadata": {},
   "outputs": [
    {
     "data": {
      "image/png": "[encoded data removed]",
      "text/plain": [
       "<Figure size 640x480 with 1 Axes>"
      ]
     },
     "metadata": {},
     "output_type": "display_data"
    }
   ],
   "source": [
    "sweeping_test(100)"
   ]
  },
  {
   "cell_type": "code",
   "execution_count": null,
   "metadata": {},
   "outputs": [],
   "source": []
  }
 ],
 "metadata": {
  "kernelspec": {
   "display_name": "base",
   "language": "python",
   "name": "python3"
  },
  "language_info": {
   "codemirror_mode": {
    "name": "ipython",
    "version": 3
   },
   "file_extension": ".py",
   "mimetype": "text/x-python",
   "name": "python",
   "nbconvert_exporter": "python",
   "pygments_lexer": "ipython3",
   "version": "3.9.15"
  },
  "orig_nbformat": 4,
  "vscode": {
   "interpreter": {
    "hash": "5108440815adba13bcd1a28d7a0269b5d81756309a6fd1490aa47b5b2ccd2ee8"
   }
  }
 },
 "nbformat": 4,
 "nbformat_minor": 2
}
